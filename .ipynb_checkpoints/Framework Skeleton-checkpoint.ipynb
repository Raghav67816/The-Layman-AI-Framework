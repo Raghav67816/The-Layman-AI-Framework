{
 "cells": [
  {
   "cell_type": "code",
   "execution_count": 1,
   "id": "cec8c539-3035-4573-93d3-cd0a0e09a23d",
   "metadata": {},
   "outputs": [],
   "source": [
    "from typing import Literal\n",
    "from random import uniform\n",
    "from dataclasses import dataclass"
   ]
  },
  {
   "cell_type": "code",
   "execution_count": 2,
   "id": "817eab0e-affb-4ece-a65e-b3478328424f",
   "metadata": {},
   "outputs": [],
   "source": [
    "from dataclasses import dataclass\n",
    "from typing import Literal\n",
    "from random import uniform\n",
    "import numpy as np\n",
    "\n",
    "@dataclass\n",
    "class Node:\n",
    "    val: float\n",
    "    conn_weight: list\n",
    "    pre_activation: float = 0\n",
    "\n",
    "class Network:\n",
    "    def __init__(self):\n",
    "        super().__init__()\n",
    "        self.layers = []\n",
    "        self.bias = 0\n",
    "\n",
    "    def create_layer(self, nodes_count: int, layer_name: Literal[\"input\", \"hidden\", \"output\"] = \"hidden\"):\n",
    "        nodes = []\n",
    "        for i in range(nodes_count):\n",
    "            node = Node(uniform(0.5, 1), [])\n",
    "            nodes.append(node)\n",
    "        layer = {\"name\": layer_name, \"nodes\": nodes}\n",
    "        self.layers.append(layer)\n",
    "\n",
    "    def get_layer(self, layer_name: Literal[\"input\", \"hidden\", \"output\"] = \"hidden\"):\n",
    "        return [layer for layer in self.layers if layer['name'] == layer_name]\n",
    "\n",
    "    def forward_propagate(self):\n",
    "        input_layer = self.get_layer(\"input\")[0]\n",
    "        hidden_layers = self.get_layer(\"hidden\")\n",
    "        output_layer = self.get_layer(\"output\")[0]\n",
    "\n",
    "        hidden_layer = hidden_layers[0] if hidden_layers else None\n",
    "\n",
    "        for h_index, h_node in enumerate(hidden_layer['nodes']):\n",
    "            total_input = 0\n",
    "            for i_index, i_node in enumerate(input_layer['nodes']):\n",
    "                weight = i_node.conn_weight[h_index]\n",
    "                total_input += i_node.val * weight\n",
    "            h_node.pre_activation = total_input + self.bias\n",
    "            h_node.val = self.relu(h_node.pre_activation)\n",
    "\n",
    "        for o_index, o_node in enumerate(output_layer['nodes']):\n",
    "            total_output = 0\n",
    "            for h_index, h_node in enumerate(hidden_layer['nodes']):\n",
    "                weight = h_node.conn_weight[o_index]\n",
    "                total_output += h_node.val * weight\n",
    "            o_node.pre_activation = total_output + self.bias\n",
    "            o_node.val = o_node.pre_activation\n",
    "\n",
    "    def adjust_network(self):\n",
    "        for i in range(len(self.layers) - 1):\n",
    "            current_layer = self.layers[i]\n",
    "            next_layer = self.layers[i + 1]\n",
    "    \n",
    "            num_nodes_current = len(current_layer['nodes'])\n",
    "            num_nodes_next = len(next_layer['nodes'])\n",
    "    \n",
    "            for node in current_layer['nodes']:\n",
    "                node.conn_weight = [uniform(-0.5, 0.5) for _ in range(num_nodes_next)]\n",
    "\n",
    "\n",
    "    def relu(self, x):\n",
    "        return max(0, x)\n",
    "\n",
    "    def predict(self, input_vals):\n",
    "        for i, val in enumerate(input_vals):\n",
    "            self.layers[0]['nodes'][i].val = val\n",
    "        self.forward_propagate()\n",
    "        output_layer = self.get_layer(\"output\")[0]\n",
    "        outputs = [node.val for node in output_layer['nodes']]\n",
    "        return np.argmax(outputs), outputs\n",
    "\n",
    "    def calc_mse(self, actual, predicted):\n",
    "        mse = 0.5 * sum((a - p) ** 2 for a, p in zip(actual, predicted))\n",
    "        return mse\n",
    "\n",
    "\n",
    "    def calc_derivatives(self, loss, actual, predicted):\n",
    "        d_loss = 2 * (predicted - actual)\n",
    "        \n",
    "    def backward_propagate(self, actual_outputs):\n",
    "        # Get layers\n",
    "        input_layer = self.get_layer(\"input\")[0]\n",
    "        hidden_layer = self.get_layer(\"hidden\")[0]\n",
    "        output_layer = self.get_layer(\"output\")[0]\n",
    "    \n",
    "        # Calculate delta for output nodes (since output is linear, derivative of activation = 1)\n",
    "        for i, o_node in enumerate(output_layer['nodes']):\n",
    "            error = o_node.val - actual_outputs[i]\n",
    "            o_node.delta = error  # dL/dz = (predicted - actual) for MSE\n",
    "    \n",
    "        # Calculate delta for hidden nodes\n",
    "        for i, h_node in enumerate(hidden_layer['nodes']):\n",
    "            downstream_gradient = 0\n",
    "            for j, o_node in enumerate(output_layer['nodes']):\n",
    "                downstream_gradient += o_node.delta * h_node.conn_weight[j]\n",
    "            # Derivative of ReLU\n",
    "            relu_derivative = 1 if h_node.pre_activation > 0 else 0\n",
    "            h_node.delta = downstream_gradient * relu_derivative\n",
    "    \n",
    "        # Update weights from hidden to output layer\n",
    "        learning_rate = 0.01\n",
    "        for h_node in hidden_layer['nodes']:\n",
    "            for j, o_node in enumerate(output_layer['nodes']):\n",
    "                grad = o_node.delta * h_node.val  # dL/dw\n",
    "                h_node.conn_weight[j] -= learning_rate * grad\n",
    "    \n",
    "        # Update weights from input to hidden layer\n",
    "        for i_node in input_layer['nodes']:\n",
    "            for j, h_node in enumerate(hidden_layer['nodes']):\n",
    "                grad = h_node.delta * i_node.val\n",
    "                i_node.conn_weight[j] -= learning_rate * grad\n",
    "    \n",
    "        # Optionally update bias terms if you want\n",
    "        self.bias -= learning_rate * sum(o_node.delta for o_node in output_layer['nodes'])\n",
    "\n",
    "    def train(self, X_train, y_train, epochs=10, verbose=True):\n",
    "        loss_vals = []\n",
    "        for epoch in range(epochs):\n",
    "            total_loss = 0\n",
    "            for i in range(len(X_train)):\n",
    "                x = X_train[i]\n",
    "                y_true = y_train[i]  # assumed to be one-hot encoded\n",
    "    \n",
    "                pred_class, output = self.predict(x)\n",
    "                loss = self.calc_mse(y_true, output)\n",
    "                total_loss += loss\n",
    "                loss_vals.append(loss)\n",
    "    \n",
    "                self.backward_propagate(y_true)\n",
    "    \n",
    "            if verbose:\n",
    "                avg_loss = total_loss / len(X_train)\n",
    "                print(f\"Epoch {epoch+1}/{epochs} - Avg Loss: {avg_loss:.4f}\")\n",
    "        return loss_vals"
   ]
  },
  {
   "cell_type": "markdown",
   "id": "74118170-0489-419c-8e82-7b48fa521602",
   "metadata": {},
   "source": [
    "## Setting Up Data"
   ]
  },
  {
   "cell_type": "code",
   "execution_count": 10,
   "id": "f32fc597-a419-429d-a90b-a39d8ed626e1",
   "metadata": {},
   "outputs": [
    {
     "name": "stdout",
     "output_type": "stream",
     "text": [
      "Defaulting to user installation because normal site-packages is not writeable\n",
      "Collecting pandas\n",
      "  Downloading pandas-2.2.3-cp310-cp310-manylinux_2_17_x86_64.manylinux2014_x86_64.whl (13.1 MB)\n",
      "\u001b[2K     \u001b[38;2;114;156;31m━━━━━━━━━━━━━━━━━━━━━━━━━━━━━━━━━━━━━━━━\u001b[0m \u001b[32m13.1/13.1 MB\u001b[0m \u001b[31m11.6 MB/s\u001b[0m eta \u001b[36m0:00:00\u001b[0mm eta \u001b[36m0:00:01\u001b[0m0:01\u001b[0m:01\u001b[0m\n",
      "\u001b[?25hRequirement already satisfied: numpy>=1.22.4 in /home/raghav/.local/lib/python3.10/site-packages (from pandas) (2.2.6)\n",
      "Requirement already satisfied: python-dateutil>=2.8.2 in /home/raghav/.local/lib/python3.10/site-packages (from pandas) (2.9.0.post0)\n",
      "Collecting tzdata>=2022.7\n",
      "  Downloading tzdata-2025.2-py2.py3-none-any.whl (347 kB)\n",
      "\u001b[2K     \u001b[38;2;114;156;31m━━━━━━━━━━━━━━━━━━━━━━━━━━━━━━━━━━━━━━\u001b[0m \u001b[32m347.8/347.8 KB\u001b[0m \u001b[31m11.1 MB/s\u001b[0m eta \u001b[36m0:00:00\u001b[0m\n",
      "\u001b[?25hRequirement already satisfied: pytz>=2020.1 in /usr/lib/python3/dist-packages (from pandas) (2022.1)\n",
      "Requirement already satisfied: six>=1.5 in /usr/lib/python3/dist-packages (from python-dateutil>=2.8.2->pandas) (1.16.0)\n",
      "Installing collected packages: tzdata, pandas\n",
      "Successfully installed pandas-2.2.3 tzdata-2025.2\n"
     ]
    }
   ],
   "source": [
    "!source env/bin/activate\n",
    "!pip3 install pandas"
   ]
  },
  {
   "cell_type": "code",
   "execution_count": 11,
   "id": "2ab30544-ad96-45c7-84d0-1a3e0cb8cccc",
   "metadata": {},
   "outputs": [],
   "source": [
    "from sklearn.datasets import load_digits\n",
    "from sklearn.model_selection import train_test_split\n",
    "from sklearn.preprocessing import OneHotEncoder\n",
    "import numpy as np\n",
    "import matplotlib.pyplot as plt\n",
    "import pandas as pd"
   ]
  },
  {
   "cell_type": "code",
   "execution_count": 5,
   "id": "7fedde60-0878-43f8-9c0c-00f317f623a8",
   "metadata": {},
   "outputs": [],
   "source": [
    "digits = load_digits()\n",
    "X = digits.data / 16.0  # normalize inputs (0–1)\n",
    "y = digits.target.reshape(-1, 1)\n",
    "\n",
    "encoder = OneHotEncoder(sparse_output=False)\n",
    "y_encoded = encoder.fit_transform(y)\n",
    "\n",
    "X_train, X_test, y_train, y_test = train_test_split(X, y_encoded, test_size=0.2)"
   ]
  },
  {
   "cell_type": "code",
   "execution_count": 6,
   "id": "52960659-d68e-49c5-a858-b071d8698f5a",
   "metadata": {},
   "outputs": [],
   "source": [
    "net = Network()\n",
    "net.create_layer(64, \"input\")\n",
    "net.create_layer(32, \"hidden\")\n",
    "net.create_layer(10, \"output\")\n",
    "net.adjust_network()"
   ]
  },
  {
   "cell_type": "code",
   "execution_count": 7,
   "id": "170dc69b-2acb-4e56-9710-692c59835e38",
   "metadata": {},
   "outputs": [
    {
     "name": "stdout",
     "output_type": "stream",
     "text": [
      "Epoch 1/10 - Avg Loss: 0.5036\n",
      "Epoch 2/10 - Avg Loss: 0.2365\n",
      "Epoch 3/10 - Avg Loss: 0.1853\n",
      "Epoch 4/10 - Avg Loss: 0.1558\n",
      "Epoch 5/10 - Avg Loss: 0.1373\n",
      "Epoch 6/10 - Avg Loss: 0.1243\n",
      "Epoch 7/10 - Avg Loss: 0.1148\n",
      "Epoch 8/10 - Avg Loss: 0.1071\n",
      "Epoch 9/10 - Avg Loss: 0.1007\n",
      "Epoch 10/10 - Avg Loss: 0.0954\n"
     ]
    }
   ],
   "source": [
    "train_info = net.train(X_train, y_train, 10) # Cleared cell output for concise PDF"
   ]
  },
  {
   "cell_type": "code",
   "execution_count": 8,
   "id": "a9d1500b-b6d0-4571-b1bd-15eba963d95b",
   "metadata": {},
   "outputs": [
    {
     "data": {
      "image/png": "[encoded data removed]",
      "text/plain": [
       "<Figure size 640x480 with 1 Axes>"
      ]
     },
     "metadata": {},
     "output_type": "display_data"
    }
   ],
   "source": [
    "import numpy as np\n",
    "\n",
    "window_size = 100\n",
    "smoothed_loss = np.convolve(train_info, np.ones(window_size)/window_size, mode='valid')\n",
    "\n",
    "plt.plot(smoothed_loss, color='red', label='Smoothed Loss')\n",
    "plt.xlabel(\"Epochs\")\n",
    "plt.ylabel(\"Loss\")\n",
    "plt.title(\"Smoothed Training Loss\")\n",
    "plt.legend()\n",
    "plt.grid(True)\n",
    "plt.show()\n"
   ]
  },
  {
   "cell_type": "code",
   "execution_count": 17,
   "id": "ea690378-d01b-44cf-9e8c-c206aa407f07",
   "metadata": {},
   "outputs": [],
   "source": [
    "def export_to_csv(network: Network):\n",
    "    # only accounts for neurons and it's values i.e weight for each connection and value\n",
    "    data = []\n",
    "    input_layer = network.get_layer(\"input\")[0]\n",
    "    hidden_layer = network.get_layer(\"hidden\")[0]\n",
    "    output_layer = network.get_layer(\"output\")[0]\n",
    "\n",
    "    node_data = {\n",
    "        \"NodeID\": input_layer['nodes']\n",
    "        \"Weights\": input_layer['nodes']\n",
    "    }\n",
    "\n",
    "    temp_df = pd.DataFrame(node_data)\n",
    "    temp_df"
   ]
  },
  {
   "cell_type": "code",
   "execution_count": 9,
   "id": "1a7e172c-b0c3-4005-b740-b4c57eeeef50",
   "metadata": {},
   "outputs": [
    {
     "name": "stdout",
     "output_type": "stream",
     "text": [
      "Test Accuracy: 92.22%\n"
     ]
    }
   ],
   "source": [
    "correct = 0\n",
    "total = len(X_test)\n",
    "\n",
    "for i in range(total):\n",
    "    x = X_test[i]\n",
    "    y_true_class = np.argmax(y_test[i])  # get actual class\n",
    "    pred_class, _ = net.predict(x)\n",
    "    \n",
    "    if pred_class == y_true_class:\n",
    "        correct += 1\n",
    "\n",
    "accuracy = correct / total\n",
    "print(f\"Test Accuracy: {accuracy * 100:.2f}%\")"
   ]
  },
  {
   "cell_type": "code",
   "execution_count": 16,
   "id": "cba16c5f-17c0-42ce-bfd6-e15130ccd579",
   "metadata": {},
   "outputs": [
    {
     "ename": "ValueError",
     "evalue": "If using all scalar values, you must pass an index",
     "output_type": "error",
     "traceback": [
      "\u001b[0;31m---------------------------------------------------------------------------\u001b[0m",
      "\u001b[0;31mValueError\u001b[0m                                Traceback (most recent call last)",
      "Cell \u001b[0;32mIn[16], line 1\u001b[0m\n\u001b[0;32m----> 1\u001b[0m \u001b[43mexport_to_csv\u001b[49m\u001b[43m(\u001b[49m\u001b[43mnet\u001b[49m\u001b[43m)\u001b[49m\n",
      "Cell \u001b[0;32mIn[15], line 14\u001b[0m, in \u001b[0;36mexport_to_csv\u001b[0;34m(network)\u001b[0m\n\u001b[1;32m      8\u001b[0m \u001b[38;5;28;01mfor\u001b[39;00m node_index, node \u001b[38;5;129;01min\u001b[39;00m \u001b[38;5;28menumerate\u001b[39m(input_layer):\n\u001b[1;32m      9\u001b[0m     node_data \u001b[38;5;241m=\u001b[39m {\n\u001b[1;32m     10\u001b[0m         \u001b[38;5;124m\"\u001b[39m\u001b[38;5;124mNodeID\u001b[39m\u001b[38;5;124m\"\u001b[39m: \u001b[38;5;124mf\u001b[39m\u001b[38;5;124m\"\u001b[39m\u001b[38;5;124mi\u001b[39m\u001b[38;5;132;01m{\u001b[39;00mnode_index\u001b[38;5;132;01m}\u001b[39;00m\u001b[38;5;124m\"\u001b[39m,\n\u001b[1;32m     11\u001b[0m         \u001b[38;5;124mf\u001b[39m\u001b[38;5;124m\"\u001b[39m\u001b[38;5;124mW\u001b[39m\u001b[38;5;132;01m{\u001b[39;00mnode_index\u001b[38;5;132;01m}\u001b[39;00m\u001b[38;5;124m\"\u001b[39m: input_layer[\u001b[38;5;124m'\u001b[39m\u001b[38;5;124mnodes\u001b[39m\u001b[38;5;124m'\u001b[39m][node_index]\n\u001b[1;32m     12\u001b[0m     }\n\u001b[0;32m---> 14\u001b[0m temp_df \u001b[38;5;241m=\u001b[39m \u001b[43mpd\u001b[49m\u001b[38;5;241;43m.\u001b[39;49m\u001b[43mDataFrame\u001b[49m\u001b[43m(\u001b[49m\u001b[43mnode_data\u001b[49m\u001b[43m)\u001b[49m\n\u001b[1;32m     15\u001b[0m temp_df\n",
      "File \u001b[0;32m~/.local/lib/python3.10/site-packages/pandas/core/frame.py:778\u001b[0m, in \u001b[0;36mDataFrame.__init__\u001b[0;34m(self, data, index, columns, dtype, copy)\u001b[0m\n\u001b[1;32m    772\u001b[0m     mgr \u001b[38;5;241m=\u001b[39m \u001b[38;5;28mself\u001b[39m\u001b[38;5;241m.\u001b[39m_init_mgr(\n\u001b[1;32m    773\u001b[0m         data, axes\u001b[38;5;241m=\u001b[39m{\u001b[38;5;124m\"\u001b[39m\u001b[38;5;124mindex\u001b[39m\u001b[38;5;124m\"\u001b[39m: index, \u001b[38;5;124m\"\u001b[39m\u001b[38;5;124mcolumns\u001b[39m\u001b[38;5;124m\"\u001b[39m: columns}, dtype\u001b[38;5;241m=\u001b[39mdtype, copy\u001b[38;5;241m=\u001b[39mcopy\n\u001b[1;32m    774\u001b[0m     )\n\u001b[1;32m    776\u001b[0m \u001b[38;5;28;01melif\u001b[39;00m \u001b[38;5;28misinstance\u001b[39m(data, \u001b[38;5;28mdict\u001b[39m):\n\u001b[1;32m    777\u001b[0m     \u001b[38;5;66;03m# GH#38939 de facto copy defaults to False only in non-dict cases\u001b[39;00m\n\u001b[0;32m--> 778\u001b[0m     mgr \u001b[38;5;241m=\u001b[39m \u001b[43mdict_to_mgr\u001b[49m\u001b[43m(\u001b[49m\u001b[43mdata\u001b[49m\u001b[43m,\u001b[49m\u001b[43m \u001b[49m\u001b[43mindex\u001b[49m\u001b[43m,\u001b[49m\u001b[43m \u001b[49m\u001b[43mcolumns\u001b[49m\u001b[43m,\u001b[49m\u001b[43m \u001b[49m\u001b[43mdtype\u001b[49m\u001b[38;5;241;43m=\u001b[39;49m\u001b[43mdtype\u001b[49m\u001b[43m,\u001b[49m\u001b[43m \u001b[49m\u001b[43mcopy\u001b[49m\u001b[38;5;241;43m=\u001b[39;49m\u001b[43mcopy\u001b[49m\u001b[43m,\u001b[49m\u001b[43m \u001b[49m\u001b[43mtyp\u001b[49m\u001b[38;5;241;43m=\u001b[39;49m\u001b[43mmanager\u001b[49m\u001b[43m)\u001b[49m\n\u001b[1;32m    779\u001b[0m \u001b[38;5;28;01melif\u001b[39;00m \u001b[38;5;28misinstance\u001b[39m(data, ma\u001b[38;5;241m.\u001b[39mMaskedArray):\n\u001b[1;32m    780\u001b[0m     \u001b[38;5;28;01mfrom\u001b[39;00m \u001b[38;5;21;01mnumpy\u001b[39;00m\u001b[38;5;21;01m.\u001b[39;00m\u001b[38;5;21;01mma\u001b[39;00m \u001b[38;5;28;01mimport\u001b[39;00m mrecords\n",
      "File \u001b[0;32m~/.local/lib/python3.10/site-packages/pandas/core/internals/construction.py:503\u001b[0m, in \u001b[0;36mdict_to_mgr\u001b[0;34m(data, index, columns, dtype, typ, copy)\u001b[0m\n\u001b[1;32m    499\u001b[0m     \u001b[38;5;28;01melse\u001b[39;00m:\n\u001b[1;32m    500\u001b[0m         \u001b[38;5;66;03m# dtype check to exclude e.g. range objects, scalars\u001b[39;00m\n\u001b[1;32m    501\u001b[0m         arrays \u001b[38;5;241m=\u001b[39m [x\u001b[38;5;241m.\u001b[39mcopy() \u001b[38;5;28;01mif\u001b[39;00m \u001b[38;5;28mhasattr\u001b[39m(x, \u001b[38;5;124m\"\u001b[39m\u001b[38;5;124mdtype\u001b[39m\u001b[38;5;124m\"\u001b[39m) \u001b[38;5;28;01melse\u001b[39;00m x \u001b[38;5;28;01mfor\u001b[39;00m x \u001b[38;5;129;01min\u001b[39;00m arrays]\n\u001b[0;32m--> 503\u001b[0m \u001b[38;5;28;01mreturn\u001b[39;00m \u001b[43marrays_to_mgr\u001b[49m\u001b[43m(\u001b[49m\u001b[43marrays\u001b[49m\u001b[43m,\u001b[49m\u001b[43m \u001b[49m\u001b[43mcolumns\u001b[49m\u001b[43m,\u001b[49m\u001b[43m \u001b[49m\u001b[43mindex\u001b[49m\u001b[43m,\u001b[49m\u001b[43m \u001b[49m\u001b[43mdtype\u001b[49m\u001b[38;5;241;43m=\u001b[39;49m\u001b[43mdtype\u001b[49m\u001b[43m,\u001b[49m\u001b[43m \u001b[49m\u001b[43mtyp\u001b[49m\u001b[38;5;241;43m=\u001b[39;49m\u001b[43mtyp\u001b[49m\u001b[43m,\u001b[49m\u001b[43m \u001b[49m\u001b[43mconsolidate\u001b[49m\u001b[38;5;241;43m=\u001b[39;49m\u001b[43mcopy\u001b[49m\u001b[43m)\u001b[49m\n",
      "File \u001b[0;32m~/.local/lib/python3.10/site-packages/pandas/core/internals/construction.py:114\u001b[0m, in \u001b[0;36marrays_to_mgr\u001b[0;34m(arrays, columns, index, dtype, verify_integrity, typ, consolidate)\u001b[0m\n\u001b[1;32m    111\u001b[0m \u001b[38;5;28;01mif\u001b[39;00m verify_integrity:\n\u001b[1;32m    112\u001b[0m     \u001b[38;5;66;03m# figure out the index, if necessary\u001b[39;00m\n\u001b[1;32m    113\u001b[0m     \u001b[38;5;28;01mif\u001b[39;00m index \u001b[38;5;129;01mis\u001b[39;00m \u001b[38;5;28;01mNone\u001b[39;00m:\n\u001b[0;32m--> 114\u001b[0m         index \u001b[38;5;241m=\u001b[39m \u001b[43m_extract_index\u001b[49m\u001b[43m(\u001b[49m\u001b[43marrays\u001b[49m\u001b[43m)\u001b[49m\n\u001b[1;32m    115\u001b[0m     \u001b[38;5;28;01melse\u001b[39;00m:\n\u001b[1;32m    116\u001b[0m         index \u001b[38;5;241m=\u001b[39m ensure_index(index)\n",
      "File \u001b[0;32m~/.local/lib/python3.10/site-packages/pandas/core/internals/construction.py:667\u001b[0m, in \u001b[0;36m_extract_index\u001b[0;34m(data)\u001b[0m\n\u001b[1;32m    664\u001b[0m         \u001b[38;5;28;01mraise\u001b[39;00m \u001b[38;5;167;01mValueError\u001b[39;00m(\u001b[38;5;124m\"\u001b[39m\u001b[38;5;124mPer-column arrays must each be 1-dimensional\u001b[39m\u001b[38;5;124m\"\u001b[39m)\n\u001b[1;32m    666\u001b[0m \u001b[38;5;28;01mif\u001b[39;00m \u001b[38;5;129;01mnot\u001b[39;00m indexes \u001b[38;5;129;01mand\u001b[39;00m \u001b[38;5;129;01mnot\u001b[39;00m raw_lengths:\n\u001b[0;32m--> 667\u001b[0m     \u001b[38;5;28;01mraise\u001b[39;00m \u001b[38;5;167;01mValueError\u001b[39;00m(\u001b[38;5;124m\"\u001b[39m\u001b[38;5;124mIf using all scalar values, you must pass an index\u001b[39m\u001b[38;5;124m\"\u001b[39m)\n\u001b[1;32m    669\u001b[0m \u001b[38;5;28;01mif\u001b[39;00m have_series:\n\u001b[1;32m    670\u001b[0m     index \u001b[38;5;241m=\u001b[39m union_indexes(indexes)\n",
      "\u001b[0;31mValueError\u001b[0m: If using all scalar values, you must pass an index"
     ]
    }
   ],
   "source": [
    "export_to_csv(net)"
   ]
  },
  {
   "cell_type": "code",
   "execution_count": null,
   "id": "84033686-053f-4757-9b65-ed09675602b3",
   "metadata": {},
   "outputs": [],
   "source": []
  }
 ],
 "metadata": {
  "kernelspec": {
   "display_name": "Python 3 (ipykernel)",
   "language": "python",
   "name": "python3"
  },
  "language_info": {
   "codemirror_mode": {
    "name": "ipython",
    "version": 3
   },
   "file_extension": ".py",
   "mimetype": "text/x-python",
   "name": "python",
   "nbconvert_exporter": "python",
   "pygments_lexer": "ipython3",
   "version": "3.10.12"
  }
 },
 "nbformat": 4,
 "nbformat_minor": 5
}
